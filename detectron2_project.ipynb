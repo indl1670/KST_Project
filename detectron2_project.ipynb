{
  "nbformat": 4,
  "nbformat_minor": 0,
  "metadata": {
    "colab": {
      "name": "detectron2_project.ipynb",
      "provenance": [],
      "collapsed_sections": [],
      "authorship_tag": "ABX9TyNllPq713Hwh8b0Lixeug9C",
      "include_colab_link": true
    },
    "kernelspec": {
      "name": "python3",
      "display_name": "Python 3"
    },
    "language_info": {
      "name": "python"
    },
    "accelerator": "GPU"
  },
  "cells": [
    {
      "cell_type": "markdown",
      "metadata": {
        "id": "view-in-github",
        "colab_type": "text"
      },
      "source": [
        "<a href=\"https://colab.research.google.com/github/indl1670/KST_Project/blob/maskrcnn/detectron2_project.ipynb\" target=\"_parent\"><img src=\"https://colab.research.google.com/assets/colab-badge.svg\" alt=\"Open In Colab\"/></a>"
      ]
    },
    {
      "cell_type": "code",
      "source": [
        "from google.colab import drive\n",
        "drive.mount('/content/drive', force_remount = True)"
      ],
      "metadata": {
        "colab": {
          "base_uri": "https://localhost:8080/"
        },
        "id": "qt8vL86zfAs7",
        "outputId": "a0c74935-46ec-4b41-b917-be94a1710c05"
      },
      "execution_count": 1,
      "outputs": [
        {
          "output_type": "stream",
          "name": "stdout",
          "text": [
            "Mounted at /content/drive\n"
          ]
        }
      ]
    },
    {
      "cell_type": "code",
      "source": [
        "cd /content/drive/MyDrive/kst_project/oneCycle"
      ],
      "metadata": {
        "colab": {
          "base_uri": "https://localhost:8080/"
        },
        "id": "izfiIUbtfrdJ",
        "outputId": "1f4735fd-62cc-474e-8124-7b1ef41e2e0d"
      },
      "execution_count": 2,
      "outputs": [
        {
          "output_type": "stream",
          "name": "stdout",
          "text": [
            "/content/drive/MyDrive/kst_project/oneCycle\n"
          ]
        }
      ]
    },
    {
      "cell_type": "code",
      "execution_count": null,
      "metadata": {
        "id": "RsrCC_I1e6Ym"
      },
      "outputs": [],
      "source": [
        "!pip install pyyaml==5.1\n",
        "\n",
        "import torch\n",
        "TORCH_VERSION = \".\".join(torch.__version__.split(\".\")[:2])\n",
        "CUDA_VERSION = torch.__version__.split(\"+\")[-1]\n",
        "print(\"torch: \", TORCH_VERSION, \"; cuda: \", CUDA_VERSION)\n",
        "# Install detectron2 that matches the above pytorch version\n",
        "# See https://detectron2.readthedocs.io/tutorials/install.html for instructions\n",
        "!pip install detectron2 -f https://dl.fbaipublicfiles.com/detectron2/wheels/$CUDA_VERSION/torch$TORCH_VERSION/index.html\n",
        "# If there is not yet a detectron2 release that matches the given torch + CUDA version, you need to install a different pytorch.\n",
        "\n",
        "# exit(0)  # After installation, you may need to \"restart runtime\" in Colab. This line can also restart runtime"
      ]
    },
    {
      "cell_type": "code",
      "source": [
        "# Some basic setup:\n",
        "# Setup detectron2 logger\n",
        "import detectron2\n",
        "from detectron2.utils.logger import setup_logger\n",
        "setup_logger()\n",
        "\n",
        "# import some common libraries\n",
        "import numpy as np\n",
        "import os, json, cv2, random\n",
        "from google.colab.patches import cv2_imshow\n",
        "\n",
        "# import some common detectron2 utilities\n",
        "from detectron2 import model_zoo\n",
        "from detectron2.engine import DefaultPredictor\n",
        "from detectron2.config import get_cfg\n",
        "from detectron2.utils.visualizer import Visualizer\n",
        "from detectron2.data import MetadataCatalog, DatasetCatalog"
      ],
      "metadata": {
        "id": "MJJz-n5af9A4"
      },
      "execution_count": 4,
      "outputs": []
    },
    {
      "cell_type": "code",
      "source": [
        "# if your dataset is in COCO format, this cell can be replaced by the following three lines:\n",
        "from detectron2.data.datasets import register_coco_instances\n",
        "register_coco_instances(\"coco2021_train\", {}, \"/content/drive/Shareddrives/KST_Project/polygon/annotations/instances_train2021.json\",\n",
        "                        \"/content/drive/Shareddrives/KST_Project/polygon/images/train2021\")\n",
        "register_coco_instances(\"coco2021_val\", {}, \"/content/drive/Shareddrives/KST_Project/polygon/annotations/instances_val2021.json\",\n",
        "                        \"/content/drive/Shareddrives/KST_Project/polygon/images/val2021\")"
      ],
      "metadata": {
        "id": "tdCc5K6JkaYv"
      },
      "execution_count": 5,
      "outputs": []
    },
    {
      "cell_type": "code",
      "source": [
        "from detectron2.engine import DefaultTrainer\n",
        "\n",
        "cfg = get_cfg()\n",
        "cfg.merge_from_file(model_zoo.get_config_file(\"COCO-InstanceSegmentation/mask_rcnn_R_50_FPN_3x.yaml\"))\n",
        "cfg.DATASETS.TRAIN = (\"coco2021_train\",)\n",
        "cfg.DATASETS.TEST = ()\n",
        "cfg.DATALOADER.NUM_WORKERS = 2\n",
        "cfg.MODEL.WEIGHTS = model_zoo.get_checkpoint_url(\"COCO-InstanceSegmentation/mask_rcnn_R_50_FPN_3x.yaml\")  # Let training initialize from model zoo\n",
        "cfg.SOLVER.IMS_PER_BATCH = 2\n",
        "cfg.SOLVER.BASE_LR = 0.00025  # pick a good LR\n",
        "cfg.SOLVER.MAX_ITER = 300    # 300 iterations seems good enough for this toy dataset; you will need to train longer for a practical dataset\n",
        "cfg.SOLVER.STEPS = []        # do not decay learning rate\n",
        "cfg.MODEL.ROI_HEADS.BATCH_SIZE_PER_IMAGE = 128   # faster, and good enough for this toy dataset (default: 512)\n",
        "cfg.MODEL.ROI_HEADS.NUM_CLASSES = 6  # only has one class (ballon). (see https://detectron2.readthedocs.io/tutorials/datasets.html#update-the-config-for-new-datasets)\n",
        "# NOTE: this config means the number of classes, but a few popular unofficial tutorials incorrect uses num_classes+1 here.\n",
        "\n",
        "os.makedirs(cfg.OUTPUT_DIR, exist_ok=True)\n",
        "trainer = DefaultTrainer(cfg) \n",
        "trainer.resume_or_load(resume=False)\n",
        "trainer.train()"
      ],
      "metadata": {
        "id": "TacrW0NTmS7v"
      },
      "execution_count": null,
      "outputs": []
    },
    {
      "cell_type": "code",
      "source": [
        "# Look at training curves in tensorboard:\n",
        "%load_ext tensorboard\n",
        "%tensorboard --logdir output"
      ],
      "metadata": {
        "id": "ggwic2m-oIMQ"
      },
      "execution_count": null,
      "outputs": []
    },
    {
      "cell_type": "code",
      "source": [
        "import json\n",
        "import os\n",
        "import shutil\n",
        "\n",
        "train_dir = '/content/drive/Shareddrives/KST_Project/polygon/annotations/instances_train2021.json'\n",
        "image_dir = '/content/drive/Shareddrives/KST_Project/polygon/images/train2021/'\n",
        "with open(train_dir, 'r', encoding='utf8') as j:\n",
        "  data = json.load(j)\n",
        "  images = data['images']\n",
        "  tmp = []\n",
        "  print(len(images))\n",
        "  for img in images:\n",
        "    name = img['file_name']\n",
        "    if not os.path.isfile(image_dir + name):\n",
        "      tmp.append(name)\n",
        "\n",
        "print(len(os.listdir(image_dir)))\n",
        "print(len(tmp))\n",
        "print(tmp)\n",
        "# c = []\n",
        "# for t in tmp:\n",
        "#   if os.path.isfile('/content/drive/Shareddrives/KST_Project/all_images/' + t):\n",
        "#     # print('in')\n",
        "#     shutil.copy('/content/drive/Shareddrives/KST_Project/all_images/' + t, image_dir + t)"
      ],
      "metadata": {
        "colab": {
          "base_uri": "https://localhost:8080/"
        },
        "id": "b6E4x171opeg",
        "outputId": "b927a0ae-29c6-4d8f-9403-0322c3be1005"
      },
      "execution_count": 46,
      "outputs": [
        {
          "output_type": "stream",
          "name": "stdout",
          "text": [
            "11300\n",
            "11250\n",
            "50\n",
            "['PM_sunny_CI04_20210928_150524_585_1.jpg', 'PM_sunny_CI04_20210928_150524_584_3.jpg', 'PM_sunny_CI04_20210928_150524_584_2.jpg', 'PM_sunny_CI04_20210928_150524_584_1.jpg', 'PM_sunny_CI04_20210928_150524_583_3.jpg', 'PM_sunny_CI04_20210928_150524_583_2.jpg', 'PM_sunny_CI04_20210928_150524_583_1.jpg', 'PM_sunny_CI04_20210928_150524_582_3.jpg', 'PM_sunny_CI04_20210928_150524_582_2.jpg', 'PM_sunny_CI04_20210928_150524_582_1.jpg', 'PM_sunny_CI04_20210928_150524_581_3.jpg', 'PM_sunny_CI04_20210928_150524_581_2.jpg', 'PM_sunny_CI04_20210928_150524_581_1.jpg', 'PM_sunny_CI04_20210928_150524_580_3.jpg', 'PM_sunny_CI04_20210928_150524_580_2.jpg', 'PM_sunny_CI04_20210928_150524_580_1.jpg', 'PM_sunny_CI04_20210928_150524_579_3.jpg', 'PM_sunny_CI04_20210928_150524_579_2.jpg', 'PM_sunny_CI04_20210928_150524_579_1.jpg', 'PM_sunny_CI04_20210928_150524_578_3.jpg', 'PM_sunny_CI04_20210928_150524_578_2.jpg', 'PM_sunny_CI04_20210928_150524_578_1.jpg', 'PM_sunny_CI04_20210928_150524_577_3.jpg', 'PM_sunny_CI04_20210928_150524_577_2.jpg', 'PM_sunny_CI04_20210928_150524_577_1.jpg', 'PM_sunny_CI04_20210928_150524_576_3.jpg', 'PM_sunny_CI04_20210928_150524_576_2.jpg', 'PM_sunny_CI04_20210928_150524_576_1.jpg', 'PM_sunny_CI04_20210928_150524_575_3.jpg', 'PM_sunny_CI04_20210928_150524_575_2.jpg', 'PM_sunny_CI04_20210928_150524_574_1.jpg', 'PM_sunny_CI04_20210928_150524_573_3.jpg', 'PM_sunny_CI04_20210928_150524_573_2.jpg', 'PM_sunny_CI04_20210928_150524_573_1.jpg', 'PM_sunny_CI04_20210928_150524_572_3.jpg', 'PM_sunny_CI04_20210928_150524_55_2.jpg', 'PM_sunny_CI04_20210928_150524_445_1.jpg', 'PM_sunny_CI04_20210928_150524_444_3.jpg', 'PM_sunny_CI04_20210928_150524_425_1.jpg', 'PM_sunny_CI04_20210928_150524_421_1.jpg', 'PM_sunny_CI04_20210928_150524_420_3.jpg', 'PM_sunny_CI04_20210928_150524_420_2.jpg', 'PM_sunny_CI04_20210928_150524_420_1.jpg', 'PM_sunny_CI04_20210928_150524_419_3.jpg', 'PM_sunny_CI04_20210928_150524_418_1.jpg', 'PM_sunny_CI04_20210928_150524_417_3.jpg', 'PM_sunny_CI04_20210928_150524_417_2.jpg', 'PM_sunny_CI04_20210928_150524_417_1.jpg', 'PM_sunny_CI04_20210928_150524_382_2.jpg', 'PM_sunny_CI04_20210928_150524_382_1.jpg']\n"
          ]
        }
      ]
    },
    {
      "cell_type": "code",
      "source": [
        "from glob import glob\n",
        "\n",
        "find_train = 'PM_sunny_CI04_20210928_150524_585_1.jpg'\n",
        "find_test = 'PM_sunny_CI04_20210928_150524_381_3.jpg'\n",
        "\n",
        "json_dir = '/content/drive/Shareddrives/KST_Project/JSON'\n",
        "\n",
        "train_json = glob(os.path.join(json_dir, '*.json'))\n",
        "\n",
        "for t in train_json:\n",
        "  with open(t, 'r', encoding='utf8') as js:\n",
        "    data_js = json.load(js)\n",
        "    img_list = data_js['images']\n",
        "    for img in img_list:\n",
        "      name = img['file_name']\n",
        "      if find_test == img['file_name']:\n",
        "        print(t)\n",
        "      if find_train == img['file_name']:\n",
        "        print(t)\n"
      ],
      "metadata": {
        "colab": {
          "base_uri": "https://localhost:8080/"
        },
        "id": "bMuYB3vjxqcC",
        "outputId": "a07a706b-504f-416e-dcc6-80a14afaa89f"
      },
      "execution_count": 53,
      "outputs": [
        {
          "output_type": "stream",
          "name": "stdout",
          "text": [
            "/content/drive/Shareddrives/KST_Project/JSON/2021.11.22_L034_2.json\n",
            "/content/drive/Shareddrives/KST_Project/JSON/2021.11.22_L034_1.json\n"
          ]
        }
      ]
    }
  ]
}