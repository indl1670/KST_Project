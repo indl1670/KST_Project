{
  "nbformat": 4,
  "nbformat_minor": 0,
  "metadata": {
    "colab": {
      "name": "polygonProject.ipynb",
      "provenance": [],
      "collapsed_sections": [],
      "authorship_tag": "ABX9TyOJ1GbAMdpkUaFQWgdCh5G6",
      "include_colab_link": true
    },
    "kernelspec": {
      "name": "python3",
      "display_name": "Python 3"
    },
    "language_info": {
      "name": "python"
    }
  },
  "cells": [
    {
      "cell_type": "markdown",
      "metadata": {
        "id": "view-in-github",
        "colab_type": "text"
      },
      "source": [
        "<a href=\"https://colab.research.google.com/github/indl1670/KST_Project/blob/maskrcnn/polygonProject.ipynb\" target=\"_parent\"><img src=\"https://colab.research.google.com/assets/colab-badge.svg\" alt=\"Open In Colab\"/></a>"
      ]
    },
    {
      "cell_type": "code",
      "execution_count": 1,
      "metadata": {
        "colab": {
          "base_uri": "https://localhost:8080/"
        },
        "id": "RU6B1IbJpRAT",
        "outputId": "1d5ae60a-4935-4639-c813-26519650d033"
      },
      "outputs": [
        {
          "output_type": "stream",
          "name": "stdout",
          "text": [
            "Mounted at /content/drive\n"
          ]
        }
      ],
      "source": [
        "from google.colab import drive\n",
        "drive.mount('/content/drive', force_remount = True)"
      ]
    },
    {
      "cell_type": "code",
      "source": [
        "cd /content/drive/MyDrive/kst_project/side/maskrcnn"
      ],
      "metadata": {
        "colab": {
          "base_uri": "https://localhost:8080/"
        },
        "id": "VuwMcVaLpm4h",
        "outputId": "97765a3b-a378-4833-8d8f-f12723657309"
      },
      "execution_count": 2,
      "outputs": [
        {
          "output_type": "stream",
          "name": "stdout",
          "text": [
            "/content/drive/MyDrive/kst_project/side/maskrcnn\n"
          ]
        }
      ]
    },
    {
      "cell_type": "code",
      "source": [
        "import os\n",
        "import zipfile\n",
        "import shutil\n",
        "import json\n",
        "\n",
        "# json 파일 경로 지정\n",
        "path = input(\"Input path: \")\n",
        "\n",
        "# json 파일 경로 리스트에 저장\n",
        "file_list = os.listdir(path)\n",
        "file_list_json = [file for file in file_list if file.endswith(\".json\")]\n",
        "\n",
        "trn_img = []\n",
        "\n",
        "# json 파일 전체 탐색\n",
        "for i in range(len(file_list_json)):\n",
        "    img_name = []\n",
        "\n",
        "    # json 파일 로드\n",
        "    file_path =  path + \"/\" + file_list_json[i]\n",
        "    with open(file_path, 'r', encoding='UTF-8') as f:\n",
        "        data = json.load(f)\n",
        "        \n",
        "        \n",
        "        # 라벨링이 있는 이미지 파일 명 저장\n",
        "        for e in data['images']:\n",
        "            for f in data['annotations']:\n",
        "                if e['id'] == f['image_id']:\n",
        "                    if f['segmentation'] != []:\n",
        "                        img_name.append(e['file_name'])\n",
        "        img_name = set(img_name)\n",
        "        \n",
        "    trn_img.extend(img_name)\n",
        "\n",
        "# 해당 이미지 분리: 총 16031     \n",
        "print(trn_img)"
      ],
      "metadata": {
        "id": "xXdRvWjwppeB"
      },
      "execution_count": null,
      "outputs": []
    },
    {
      "cell_type": "code",
      "source": [
        "import os\n",
        "import shutil\n",
        "\n",
        "from sklearn.model_selection import train_test_split\n",
        "\n",
        "\n",
        "def main():\n",
        "    json_dir = input('json폴더의 주소: ')\n",
        "\n",
        "    json_list = os.listdir(json_dir)\n",
        "\n",
        "    if not os.path.exists(json_dir + '//train'):\n",
        "        os.makedirs(json_dir + '//train')\n",
        "    if not os.path.exists(json_dir + '//val'):\n",
        "        os.makedirs(json_dir + '//val')\n",
        "    if not os.path.exists(json_dir + '//test'):\n",
        "        os.makedirs(json_dir + '//test')\n",
        "\n",
        "    # train:valid:test = 7:2:1\n",
        "    train_set, test_set = train_test_split(json_list, test_size=0.3, random_state=123)\n",
        "    valid_set, test_set = train_test_split(test_set, test_size=0.4, random_state=123)\n",
        "\n",
        "    # json 파일을 이동\n",
        "    for tr in train_set:\n",
        "        shutil.copy(os.path.join(json_dir, tr), json_dir + '//train//' + tr)\n",
        "    for va in valid_set:\n",
        "        shutil.copy(os.path.join(json_dir, va), json_dir + '//val//' + va)\n",
        "    for te in test_set:\n",
        "        shutil.copy(os.path.join(json_dir, te), json_dir + '//test//' + te)\n",
        "\n",
        "\n",
        "if __name__ == \"__main__\":\n",
        "    main()\n"
      ],
      "metadata": {
        "colab": {
          "base_uri": "https://localhost:8080/"
        },
        "id": "ODZVXWIOsNGz",
        "outputId": "ab4f343c-59e7-4f0a-a332-245cc883625a"
      },
      "execution_count": null,
      "outputs": [
        {
          "name": "stdout",
          "output_type": "stream",
          "text": [
            "json폴더의 주소: /content/drive/Shareddrives/KST_Project/JSON\n"
          ]
        }
      ]
    },
    {
      "cell_type": "code",
      "source": [
        "!pip install pyodi"
      ],
      "metadata": {
        "id": "RRMf8KcNtUpP"
      },
      "execution_count": null,
      "outputs": []
    },
    {
      "cell_type": "code",
      "source": [
        "import os\n",
        "import json\n",
        "import shutil\n",
        "\n",
        "\n",
        "def coco_merge(json_dir, dest, cls):\n",
        "    json_list = os.listdir(json_dir)\n",
        "    file_list_json = [file for file in json_list if file.endswith(\".json\")]\n",
        "\n",
        "    theone = os.path.join(json_dir, file_list_json[0])\n",
        "    thetwo = os.path.join(json_dir, file_list_json[1])\n",
        "    cls = cls + '.json'\n",
        "    target = os.path.join(dest, 'annotations', cls)\n",
        "\n",
        "    os.system('pyodi coco merge %s %s %s' % (theone, thetwo, target))\n",
        "    els = file_list_json[2:]\n",
        "\n",
        "    for e in els:\n",
        "        sac = os.path.join(json_dir, e)\n",
        "        os.system('pyodi coco merge %s %s %s' % (target, sac, target))\n",
        "\n",
        "\n",
        "def image_split(dest, data_pick):\n",
        "    img_dir = input('image 파일들의 경로:')\n",
        "\n",
        "    ann_dir = os.path.join(dest, 'annotations')\n",
        "    img_dest = os.path.join(dest, 'images')\n",
        "\n",
        "    with open(os.path.join(ann_dir, 'train.json'), 'r', encoding='utf8') as ann:\n",
        "        data = json.load(ann)\n",
        "        img_list = data['images']\n",
        "        for img in img_list:\n",
        "            fn = img['file_name']\n",
        "            if fn in data_pick:\n",
        "              if os.path.isfile(os.path.join(img_dir, fn)):\n",
        "                shutil.copy(os.path.join(img_dir, fn), os.path.join(img_dest, 'train'))\n",
        "        print('train finish')\n",
        "\n",
        "    with open(os.path.join(ann_dir, 'val.json'), 'r', encoding='utf8') as ann:\n",
        "        data = json.load(ann)\n",
        "        img_list = data['images']\n",
        "        for img in img_list:\n",
        "            fn = img['file_name']\n",
        "            if fn in data_pick:\n",
        "              if os.path.isfile(os.path.join(img_dir, fn)):\n",
        "                shutil.copy(os.path.join(img_dir, fn), os.path.join(img_dest, 'val'))\n",
        "        print('val finish')\n",
        "\n",
        "    with open(os.path.join(ann_dir, 'test.json'), 'r', encoding='utf8') as ann:\n",
        "        data = json.load(ann)\n",
        "        img_list = data['images']\n",
        "        for img in img_list:\n",
        "            fn = img['file_name']\n",
        "            if fn in data_pick:\n",
        "              if os.path.isfile(os.path.join(img_dir, fn)):\n",
        "                shutil.copy(os.path.join(img_dir, fn), os.path.join(img_dest, 'test'))\n",
        "        print('test finish')\n",
        "\n",
        "\n",
        "def main():\n",
        "    print('--coco data merge--')\n",
        "    train_json = input('train json 파일들의 경로: ')\n",
        "    val_json = input('valid json 파일들의 경로: ')\n",
        "    test_json = input('test json 파일들의 경로: ')\n",
        "\n",
        "    dest = input('split한 데이터셋을 저장할 경로: ')\n",
        "\n",
        "    # 폴더 생성\n",
        "    if not os.path.exists(dest + '//images'):\n",
        "        os.makedirs(dest + '//images')\n",
        "        os.makedirs(dest + '//images//train')\n",
        "        os.makedirs(dest + '//images//val')\n",
        "        os.makedirs(dest + '//images//test')\n",
        "    if not os.path.exists(dest + '//annotations'):\n",
        "        os.makedirs(dest + '//annotations')\n",
        "\n",
        "    # # coco를 train/val/test 별로 합치기\n",
        "    coco_merge(train_json, dest, 'train')\n",
        "    coco_merge(val_json, dest, 'val')\n",
        "    coco_merge(test_json, dest, 'test')\n",
        "\n",
        "    # 원하는 이미지 리스트 넣기 = 위 1.2에서 나온 trn_img를 사용\n",
        "    data_pick = trn_img\n",
        "\n",
        "    print('--image split--')\n",
        "    image_split(dest, data_pick)\n",
        "\n",
        "\n",
        "\n",
        "if __name__ == \"__main__\":\n",
        "    main()\n"
      ],
      "metadata": {
        "colab": {
          "base_uri": "https://localhost:8080/"
        },
        "id": "_GwS1lNyrwKW",
        "outputId": "9abff115-ebfa-4535-a33c-ebc85b07f35a"
      },
      "execution_count": 4,
      "outputs": [
        {
          "output_type": "stream",
          "name": "stdout",
          "text": [
            "--coco data merge--\n",
            "train json 파일들의 경로: /content/drive/Shareddrives/KST_Project/JSON/train\n",
            "valid json 파일들의 경로: /content/drive/Shareddrives/KST_Project/JSON/val\n",
            "test json 파일들의 경로: /content/drive/Shareddrives/KST_Project/JSON/test\n",
            "split한 데이터셋을 저장할 경로: /content/drive/Shareddrives/KST_Project/polygon\n",
            "--image split--\n",
            "train finish\n",
            "val finish\n",
            "test finish\n"
          ]
        }
      ]
    },
    {
      "cell_type": "code",
      "source": [
        "import json\n",
        "import os\n",
        "\n",
        "dir = '/content/drive/Shareddrives/KST_Project/polygon/annotations/test.json'\n",
        "\n",
        "f = open(dir, 'r', encoding = 'utf8')\n",
        "data = json.load(f)\n",
        "f.close()\n",
        "with open(dir, 'w', encoding='utf8') as w:\n",
        "  for l in data['annotations']:\n",
        "    if l['category_id'] == 1:\n",
        "      l['category_id'] = 6\n",
        "    elif l['category_id'] == 2:\n",
        "      l['category_id'] = 5\n",
        "    elif l['category_id'] == 3:\n",
        "      l['category_id'] = 4\n",
        "    elif l['category_id'] == 4:\n",
        "      l['category_id'] = 3\n",
        "    elif l['category_id'] == 5:\n",
        "      l['category_id'] = 2\n",
        "    elif l['category_id'] == 6:\n",
        "      l['category_id'] = 1\n",
        "  json.dump(data, w, indent='\\t')"
      ],
      "metadata": {
        "id": "s2qAbbrRPhF6"
      },
      "execution_count": null,
      "outputs": []
    },
    {
      "cell_type": "code",
      "source": [
        "import os\n",
        "import json\n",
        "\n",
        "json_dir = '/content/drive/Shareddrives/KST_Project/polygon/annotations'\n",
        "img_dir = '/content/drive/Shareddrives/KST_Project/polygon/images'\n",
        "cls = ['train', 'val', 'test']\n",
        "\n",
        "for c in cls:\n",
        "  cnt = 0\n",
        "  img_name_list = os.listdir(os.path.join(img_dir, c))\n",
        "  with open(os.path.join(json_dir, c+'.json'), 'r', encoding='utf8') as js:\n",
        "    data = json.load(js)\n",
        "    img_list = data['images']\n",
        "    for img in img_list:\n",
        "      if img['file_name'] in img_name_list:\n",
        "        cnt+=1\n",
        "    print(c, 'image: ', len(img_name_list))\n",
        "    print(c, 'image from json: ', len(img_list))\n",
        "    print(c, 'match image: ', cnt)\n"
      ],
      "metadata": {
        "colab": {
          "base_uri": "https://localhost:8080/"
        },
        "id": "vEk2l7E4mFFN",
        "outputId": "ce3f8016-23d4-430d-c17e-9513fc9bf3ec"
      },
      "execution_count": 4,
      "outputs": [
        {
          "output_type": "stream",
          "name": "stdout",
          "text": [
            "train image:  11139\n",
            "train image from json:  11300\n",
            "train match image:  11139\n",
            "val image:  2894\n",
            "val image from json:  2900\n",
            "val match image:  2894\n",
            "test image:  1898\n",
            "test image from json:  1950\n",
            "test match image:  1898\n"
          ]
        }
      ]
    }
  ]
}