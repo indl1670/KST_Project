{
  "nbformat": 4,
  "nbformat_minor": 0,
  "metadata": {
    "colab": {
      "name": "1cycle_sideproject.ipynb",
      "provenance": [],
      "authorship_tag": "ABX9TyMs8A1yXqV8qv21VOf9/56/",
      "include_colab_link": true
    },
    "kernelspec": {
      "name": "python3",
      "display_name": "Python 3"
    },
    "language_info": {
      "name": "python"
    },
    "accelerator": "GPU"
  },
  "cells": [
    {
      "cell_type": "markdown",
      "metadata": {
        "id": "view-in-github",
        "colab_type": "text"
      },
      "source": [
        "<a href=\"https://colab.research.google.com/github/indl1670/KST_Project/blob/main/1cycle_sideproject.ipynb\" target=\"_parent\"><img src=\"https://colab.research.google.com/assets/colab-badge.svg\" alt=\"Open In Colab\"/></a>"
      ]
    },
    {
      "cell_type": "code",
      "metadata": {
        "colab": {
          "base_uri": "https://localhost:8080/"
        },
        "id": "Di8ob-qlbNqT",
        "outputId": "7bfb182c-45f0-4c02-8e51-49350a3e6297"
      },
      "source": [
        "from google.colab import drive\n",
        "drive.mount('/content/drive')"
      ],
      "execution_count": 1,
      "outputs": [
        {
          "output_type": "stream",
          "name": "stdout",
          "text": [
            "Mounted at /content/drive\n"
          ]
        }
      ]
    },
    {
      "cell_type": "code",
      "metadata": {
        "colab": {
          "base_uri": "https://localhost:8080/"
        },
        "id": "SSv96DDmbpWq",
        "outputId": "32d89a18-8c1c-44a1-bbae-f9d77d932a3a"
      },
      "source": [
        "cd /content/drive/MyDrive/kst_project/oneCycle"
      ],
      "execution_count": 2,
      "outputs": [
        {
          "output_type": "stream",
          "name": "stdout",
          "text": [
            "/content/drive/MyDrive/kst_project/oneCycle/yolov5\n"
          ]
        }
      ]
    },
    {
      "cell_type": "code",
      "source": [
        "git clone https://github.com/ultralytics/yolov5.git"
      ],
      "metadata": {
        "id": "laScdjvs7e6G"
      },
      "execution_count": null,
      "outputs": []
    },
    {
      "cell_type": "code",
      "source": [
        "cd yolov5"
      ],
      "metadata": {
        "id": "pWsYXbCk7iyM"
      },
      "execution_count": null,
      "outputs": []
    },
    {
      "cell_type": "code",
      "metadata": {
        "id": "lsCRTMMfdKL6"
      },
      "source": [
        "!pip install -r requirements.txt\n",
        "!pip install wandb"
      ],
      "execution_count": null,
      "outputs": []
    },
    {
      "cell_type": "code",
      "source": [
        "import os\n",
        "\n",
        "dataset_dir = '/content/drive/Shareddrives/KST Project #2/split_image'\n",
        "dataset_folder = os.listdir(dataset_dir)\n",
        "\n",
        "# 수량 일치 확인\n",
        "for dataset in dataset_folder:\n",
        "  print(str(dataset))\n",
        "  img, lab = os.listdir(os.path.join(dataset_dir, dataset))\n",
        "  if lab == 'images': # 폴더 순서 설정\n",
        "    lab = 'labels'\n",
        "    img = 'images'\n",
        "    \n",
        "  img_list = os.listdir(os.path.join(dataset_dir, dataset, img))\n",
        "  lab_list = os.listdir(os.path.join(dataset_dir, dataset, lab))\n",
        "  cnt=0\n",
        "  for l in lab_list:\n",
        "    l2i = l[:-3] + 'jpg'\n",
        "    if l2i in img_list:\n",
        "      cnt+=1\n",
        "  print('img: ', len(img_list))\n",
        "  print('lab: ', len(lab_list))\n",
        "  print('match: ', cnt)\n"
      ],
      "metadata": {
        "colab": {
          "base_uri": "https://localhost:8080/"
        },
        "id": "mvdT0AX2vWvC",
        "outputId": "2b2b64a6-3b07-44f0-938d-03f1b6412387"
      },
      "execution_count": 13,
      "outputs": [
        {
          "output_type": "stream",
          "name": "stdout",
          "text": [
            "train\n",
            "img:  987\n",
            "lab:  987\n",
            "match:  987\n",
            "valid\n",
            "img:  253\n",
            "lab:  253\n",
            "match:  253\n",
            "test\n",
            "img:  170\n",
            "lab:  170\n",
            "match:  170\n"
          ]
        }
      ]
    },
    {
      "cell_type": "code",
      "source": [
        "!python train.py --img 640 --batch 16 --epochs 150 --data ./data/custom.yaml --cfg ./models/yolov5s.yaml --weights yolov5s.pt"
      ],
      "metadata": {
        "colab": {
          "base_uri": "https://localhost:8080/"
        },
        "id": "ofPeKag9w0h4",
        "outputId": "57ca7183-812c-49d3-ff5e-e186e40b2cfa"
      },
      "execution_count": 7,
      "outputs": [
        {
          "output_type": "stream",
          "name": "stdout",
          "text": [
            "\u001b[34m\u001b[1mwandb\u001b[0m: Currently logged in as: \u001b[33mheoseokyong\u001b[0m (use `wandb login --relogin` to force relogin)\n",
            "\u001b[34m\u001b[1mtrain: \u001b[0mweights=yolov5s.pt, cfg=./models/yolov5s.yaml, data=./data/custom.yaml, hyp=data/hyps/hyp.scratch.yaml, epochs=150, batch_size=16, imgsz=640, rect=False, resume=False, nosave=False, noval=False, noautoanchor=False, evolve=None, bucket=, cache=None, image_weights=False, device=, multi_scale=False, single_cls=False, adam=False, sync_bn=False, workers=8, project=runs/train, name=exp, exist_ok=False, quad=False, linear_lr=False, label_smoothing=0.0, patience=100, freeze=0, save_period=-1, local_rank=-1, entity=None, upload_dataset=False, bbox_interval=-1, artifact_alias=latest\n",
            "\u001b[34m\u001b[1mgithub: \u001b[0m⚠️ YOLOv5 is out of date by 3 commits. Use `git pull` or `git clone https://github.com/ultralytics/yolov5` to update.\n",
            "YOLOv5 🚀 2021-12-7 torch 1.10.0+cu111 CUDA:0 (Tesla K80, 11441MiB)\n",
            "\n",
            "\u001b[34m\u001b[1mhyperparameters: \u001b[0mlr0=0.01, lrf=0.1, momentum=0.937, weight_decay=0.0005, warmup_epochs=3.0, warmup_momentum=0.8, warmup_bias_lr=0.1, box=0.05, cls=0.5, cls_pw=1.0, obj=1.0, obj_pw=1.0, iou_t=0.2, anchor_t=4.0, fl_gamma=0.0, hsv_h=0.015, hsv_s=0.7, hsv_v=0.4, degrees=0.0, translate=0.1, scale=0.5, shear=0.0, perspective=0.0, flipud=0.0, fliplr=0.5, mosaic=1.0, mixup=0.0, copy_paste=0.0\n",
            "\u001b[34m\u001b[1mTensorBoard: \u001b[0mStart with 'tensorboard --logdir runs/train', view at http://localhost:6006/\n",
            "\u001b[34m\u001b[1mwandb\u001b[0m: Tracking run with wandb version 0.12.7\n",
            "\u001b[34m\u001b[1mwandb\u001b[0m: Syncing run \u001b[33mchocolate-feather-3\u001b[0m\n",
            "\u001b[34m\u001b[1mwandb\u001b[0m: ⭐️ View project at \u001b[34m\u001b[4mhttps://wandb.ai/heoseokyong/YOLOv5\u001b[0m\n",
            "\u001b[34m\u001b[1mwandb\u001b[0m: 🚀 View run at \u001b[34m\u001b[4mhttps://wandb.ai/heoseokyong/YOLOv5/runs/2cajkaju\u001b[0m\n",
            "\u001b[34m\u001b[1mwandb\u001b[0m: Run data is saved locally in /content/drive/My Drive/kst_project/oneCycle/yolov5/wandb/run-20211208_023858-2cajkaju\n",
            "\u001b[34m\u001b[1mwandb\u001b[0m: Run `wandb offline` to turn off syncing.\n",
            "\n",
            "Downloading https://github.com/ultralytics/yolov5/releases/download/v6.0/yolov5s.pt to yolov5s.pt...\n",
            "100% 14.0M/14.0M [00:00<00:00, 41.2MB/s]\n",
            "\n",
            "Overriding model.yaml nc=80 with nc=1\n",
            "\n",
            "                 from  n    params  module                                  arguments                     \n",
            "  0                -1  1      3520  models.common.Conv                      [3, 32, 6, 2, 2]              \n",
            "  1                -1  1     18560  models.common.Conv                      [32, 64, 3, 2]                \n",
            "  2                -1  1     18816  models.common.C3                        [64, 64, 1]                   \n",
            "  3                -1  1     73984  models.common.Conv                      [64, 128, 3, 2]               \n",
            "  4                -1  2    115712  models.common.C3                        [128, 128, 2]                 \n",
            "  5                -1  1    295424  models.common.Conv                      [128, 256, 3, 2]              \n",
            "  6                -1  3    625152  models.common.C3                        [256, 256, 3]                 \n",
            "  7                -1  1   1180672  models.common.Conv                      [256, 512, 3, 2]              \n",
            "  8                -1  1   1182720  models.common.C3                        [512, 512, 1]                 \n",
            "  9                -1  1    656896  models.common.SPPF                      [512, 512, 5]                 \n",
            " 10                -1  1    131584  models.common.Conv                      [512, 256, 1, 1]              \n",
            " 11                -1  1         0  torch.nn.modules.upsampling.Upsample    [None, 2, 'nearest']          \n",
            " 12           [-1, 6]  1         0  models.common.Concat                    [1]                           \n",
            " 13                -1  1    361984  models.common.C3                        [512, 256, 1, False]          \n",
            " 14                -1  1     33024  models.common.Conv                      [256, 128, 1, 1]              \n",
            " 15                -1  1         0  torch.nn.modules.upsampling.Upsample    [None, 2, 'nearest']          \n",
            " 16           [-1, 4]  1         0  models.common.Concat                    [1]                           \n",
            " 17                -1  1     90880  models.common.C3                        [256, 128, 1, False]          \n",
            " 18                -1  1    147712  models.common.Conv                      [128, 128, 3, 2]              \n",
            " 19          [-1, 14]  1         0  models.common.Concat                    [1]                           \n",
            " 20                -1  1    296448  models.common.C3                        [256, 256, 1, False]          \n",
            " 21                -1  1    590336  models.common.Conv                      [256, 256, 3, 2]              \n",
            " 22          [-1, 10]  1         0  models.common.Concat                    [1]                           \n",
            " 23                -1  1   1182720  models.common.C3                        [512, 512, 1, False]          \n",
            " 24      [17, 20, 23]  1     16182  models.yolo.Detect                      [1, [[10, 13, 16, 30, 33, 23], [30, 61, 62, 45, 59, 119], [116, 90, 156, 198, 373, 326]], [128, 256, 512]]\n",
            "Model Summary: 270 layers, 7022326 parameters, 7022326 gradients, 15.8 GFLOPs\n",
            "\n",
            "Transferred 342/349 items from yolov5s.pt\n",
            "Scaled weight_decay = 0.0005\n",
            "\u001b[34m\u001b[1moptimizer:\u001b[0m SGD with parameter groups 57 weight, 60 weight (no decay), 60 bias\n",
            "\u001b[34m\u001b[1malbumentations: \u001b[0mversion 1.0.3 required by YOLOv5, but version 0.1.12 is currently installed\n",
            "\u001b[34m\u001b[1mtrain: \u001b[0mScanning '/content/drive/Shareddrives/KST_Project/split_image/train/labels.cache' images and labels... 987 found, 0 missing, 0 empty, 0 corrupted: 100% 987/987 [00:00<?, ?it/s]\n",
            "\u001b[34m\u001b[1mval: \u001b[0mScanning '/content/drive/Shareddrives/KST_Project/split_image/valid/labels.cache' images and labels... 253 found, 0 missing, 0 empty, 0 corrupted: 100% 253/253 [00:00<?, ?it/s]\n",
            "Plotting labels to runs/train/exp4/labels.jpg... \n",
            "\n",
            "\u001b[34m\u001b[1mAutoAnchor: \u001b[0m4.11 anchors/target, 0.997 Best Possible Recall (BPR). Current anchors are a good fit to dataset ✅\n",
            "Image sizes 640 train, 640 val\n",
            "Using 2 dataloader workers\n",
            "Logging results to \u001b[1mruns/train/exp4\u001b[0m\n",
            "Starting training for 150 epochs...\n",
            "\n",
            "     Epoch   gpu_mem       box       obj       cls    labels  img_size\n",
            "     0/149     3.34G    0.1135   0.03499         0        46       640: 100% 62/62 [02:52<00:00,  2.78s/it]\n",
            "               Class     Images     Labels          P          R     mAP@.5 mAP@.5:.95: 100% 8/8 [00:13<00:00,  1.69s/it]\n",
            "                 all        253        691    0.00143     0.0738   0.000616   0.000127\n",
            "\n",
            "     Epoch   gpu_mem       box       obj       cls    labels  img_size\n",
            "     1/149      3.6G    0.1043   0.03375         0        99       640:  71% 44/62 [02:04<00:50,  2.82s/it]\n",
            "Traceback (most recent call last):\n",
            "  File \"train.py\", line 626, in <module>\n",
            "    main(opt)\n",
            "  File \"train.py\", line 523, in main\n",
            "    train(opt.hyp, opt, device, callbacks)\n",
            "  File \"train.py\", line 294, in train\n",
            "    for i, (imgs, targets, paths, _) in pbar:  # batch -------------------------------------------------------------\n",
            "  File \"/usr/local/lib/python3.7/dist-packages/tqdm/std.py\", line 1180, in __iter__\n",
            "    for obj in iterable:\n",
            "  File \"/content/drive/My Drive/kst_project/oneCycle/yolov5/utils/datasets.py\", line 141, in __iter__\n",
            "    yield next(self.iterator)\n",
            "  File \"/usr/local/lib/python3.7/dist-packages/torch/utils/data/dataloader.py\", line 521, in __next__\n",
            "    data = self._next_data()\n",
            "  File \"/usr/local/lib/python3.7/dist-packages/torch/utils/data/dataloader.py\", line 1186, in _next_data\n",
            "    idx, data = self._get_data()\n",
            "  File \"/usr/local/lib/python3.7/dist-packages/torch/utils/data/dataloader.py\", line 1142, in _get_data\n",
            "    success, data = self._try_get_data()\n",
            "  File \"/usr/local/lib/python3.7/dist-packages/torch/utils/data/dataloader.py\", line 990, in _try_get_data\n",
            "    data = self._data_queue.get(timeout=timeout)\n",
            "  File \"/usr/lib/python3.7/queue.py\", line 179, in get\n",
            "    self.not_empty.wait(remaining)\n",
            "  File \"/usr/lib/python3.7/threading.py\", line 300, in wait\n",
            "    gotit = waiter.acquire(True, timeout)\n",
            "KeyboardInterrupt\n",
            "\n",
            "\u001b[34m\u001b[1mwandb\u001b[0m: Waiting for W&B process to finish, PID 3758... (failed 255). Press ctrl-c to abort syncing.\n",
            "\u001b[34m\u001b[1mwandb\u001b[0m:                                                                                \n",
            "\u001b[34m\u001b[1mwandb\u001b[0m: Run history:\n",
            "\u001b[34m\u001b[1mwandb\u001b[0m:        metrics/mAP_0.5 ▁\n",
            "\u001b[34m\u001b[1mwandb\u001b[0m:   metrics/mAP_0.5:0.95 ▁\n",
            "\u001b[34m\u001b[1mwandb\u001b[0m:      metrics/precision ▁\n",
            "\u001b[34m\u001b[1mwandb\u001b[0m:         metrics/recall ▁\n",
            "\u001b[34m\u001b[1mwandb\u001b[0m:         train/box_loss ▁\n",
            "\u001b[34m\u001b[1mwandb\u001b[0m:         train/cls_loss ▁\n",
            "\u001b[34m\u001b[1mwandb\u001b[0m:         train/obj_loss ▁\n",
            "\u001b[34m\u001b[1mwandb\u001b[0m:           val/box_loss ▁\n",
            "\u001b[34m\u001b[1mwandb\u001b[0m:           val/cls_loss ▁\n",
            "\u001b[34m\u001b[1mwandb\u001b[0m:           val/obj_loss ▁\n",
            "\u001b[34m\u001b[1mwandb\u001b[0m:                  x/lr0 ▁\n",
            "\u001b[34m\u001b[1mwandb\u001b[0m:                  x/lr1 ▁\n",
            "\u001b[34m\u001b[1mwandb\u001b[0m:                  x/lr2 ▁\n",
            "\u001b[34m\u001b[1mwandb\u001b[0m: \n",
            "\u001b[34m\u001b[1mwandb\u001b[0m: Run summary:\n",
            "\u001b[34m\u001b[1mwandb\u001b[0m:        metrics/mAP_0.5 0.00062\n",
            "\u001b[34m\u001b[1mwandb\u001b[0m:   metrics/mAP_0.5:0.95 0.00013\n",
            "\u001b[34m\u001b[1mwandb\u001b[0m:      metrics/precision 0.00143\n",
            "\u001b[34m\u001b[1mwandb\u001b[0m:         metrics/recall 0.07381\n",
            "\u001b[34m\u001b[1mwandb\u001b[0m:         train/box_loss 0.1135\n",
            "\u001b[34m\u001b[1mwandb\u001b[0m:         train/cls_loss 0.0\n",
            "\u001b[34m\u001b[1mwandb\u001b[0m:         train/obj_loss 0.03499\n",
            "\u001b[34m\u001b[1mwandb\u001b[0m:           val/box_loss 0.10239\n",
            "\u001b[34m\u001b[1mwandb\u001b[0m:           val/cls_loss 0.0\n",
            "\u001b[34m\u001b[1mwandb\u001b[0m:           val/obj_loss 0.03449\n",
            "\u001b[34m\u001b[1mwandb\u001b[0m:                  x/lr0 0.00061\n",
            "\u001b[34m\u001b[1mwandb\u001b[0m:                  x/lr1 0.00061\n",
            "\u001b[34m\u001b[1mwandb\u001b[0m:                  x/lr2 0.09451\n",
            "\u001b[34m\u001b[1mwandb\u001b[0m: \n",
            "\u001b[34m\u001b[1mwandb\u001b[0m: Synced 5 W&B file(s), 5 media file(s), 0 artifact file(s) and 0 other file(s)\n",
            "\u001b[34m\u001b[1mwandb\u001b[0m: Synced \u001b[33mchocolate-feather-3\u001b[0m: \u001b[34mhttps://wandb.ai/heoseokyong/YOLOv5/runs/2cajkaju\u001b[0m\n",
            "\u001b[34m\u001b[1mwandb\u001b[0m: Find logs at: ./wandb/run-20211208_023858-2cajkaju/logs/debug.log\n",
            "\u001b[34m\u001b[1mwandb\u001b[0m: \n"
          ]
        }
      ]
    }
  ]
}