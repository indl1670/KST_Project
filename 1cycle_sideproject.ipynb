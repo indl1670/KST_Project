{
  "nbformat": 4,
  "nbformat_minor": 0,
  "metadata": {
    "colab": {
      "name": "1cycle_sideproject.ipynb",
      "provenance": [],
      "authorship_tag": "ABX9TyOVXgWKBvHaSdP5cRQ5ZTnS",
      "include_colab_link": true
    },
    "kernelspec": {
      "name": "python3",
      "display_name": "Python 3"
    },
    "language_info": {
      "name": "python"
    },
    "accelerator": "GPU"
  },
  "cells": [
    {
      "cell_type": "markdown",
      "metadata": {
        "id": "view-in-github",
        "colab_type": "text"
      },
      "source": [
        "<a href=\"https://colab.research.google.com/github/indl1670/KST_Project/blob/main/1cycle_sideproject.ipynb\" target=\"_parent\"><img src=\"https://colab.research.google.com/assets/colab-badge.svg\" alt=\"Open In Colab\"/></a>"
      ]
    },
    {
      "cell_type": "code",
      "metadata": {
        "colab": {
          "base_uri": "https://localhost:8080/"
        },
        "id": "Di8ob-qlbNqT",
        "outputId": "c421af39-0de6-45af-c14b-a45e9405228b"
      },
      "source": [
        "from google.colab import drive\n",
        "drive.mount('/content/drive')"
      ],
      "execution_count": 1,
      "outputs": [
        {
          "output_type": "stream",
          "name": "stdout",
          "text": [
            "Mounted at /content/drive\n"
          ]
        }
      ]
    },
    {
      "cell_type": "code",
      "metadata": {
        "colab": {
          "base_uri": "https://localhost:8080/"
        },
        "id": "SSv96DDmbpWq",
        "outputId": "2c78b95e-82f9-435c-de7d-4800893173c5"
      },
      "source": [
        "cd /content/drive/MyDrive/kst_project/oneCycle"
      ],
      "execution_count": 2,
      "outputs": [
        {
          "output_type": "stream",
          "name": "stdout",
          "text": [
            "/content/drive/MyDrive/kst_project/oneCycle\n"
          ]
        }
      ]
    },
    {
      "cell_type": "code",
      "source": [
        "git clone https://github.com/ultralytics/yolov5.git"
      ],
      "metadata": {
        "id": "laScdjvs7e6G"
      },
      "execution_count": null,
      "outputs": []
    },
    {
      "cell_type": "code",
      "source": [
        "cd yolov5"
      ],
      "metadata": {
        "colab": {
          "base_uri": "https://localhost:8080/"
        },
        "id": "pWsYXbCk7iyM",
        "outputId": "29b87774-6f54-41a3-c175-d57436628eb0"
      },
      "execution_count": 3,
      "outputs": [
        {
          "output_type": "stream",
          "name": "stdout",
          "text": [
            "/content/drive/MyDrive/kst_project/oneCycle/yolov5\n"
          ]
        }
      ]
    },
    {
      "cell_type": "code",
      "metadata": {
        "id": "lsCRTMMfdKL6"
      },
      "source": [
        "!pip install -r requirements.txt\n",
        "!pip install wandb"
      ],
      "execution_count": null,
      "outputs": []
    },
    {
      "cell_type": "code",
      "source": [
        "import os\n",
        "\n",
        "dataset_dir = '/content/drive/Shareddrives/KST Project #2/split_image'\n",
        "dataset_folder = os.listdir(dataset_dir)\n",
        "\n",
        "# 수량 일치 확인\n",
        "for dataset in dataset_folder:\n",
        "  print(str(dataset))\n",
        "  img, lab = os.listdir(os.path.join(dataset_dir, dataset))\n",
        "  if lab == 'images': # 폴더 순서 설정\n",
        "    lab = 'labels'\n",
        "    img = 'images'\n",
        "    \n",
        "  img_list = os.listdir(os.path.join(dataset_dir, dataset, img))\n",
        "  lab_list = os.listdir(os.path.join(dataset_dir, dataset, lab))\n",
        "  cnt=0\n",
        "  for l in lab_list:\n",
        "    l2i = l[:-3] + 'jpg'\n",
        "    if l2i in img_list:\n",
        "      cnt+=1\n",
        "  print('img: ', len(img_list))\n",
        "  print('lab: ', len(lab_list))\n",
        "  print('match: ', cnt)\n"
      ],
      "metadata": {
        "colab": {
          "base_uri": "https://localhost:8080/"
        },
        "id": "mvdT0AX2vWvC",
        "outputId": "2b2b64a6-3b07-44f0-938d-03f1b6412387"
      },
      "execution_count": 13,
      "outputs": [
        {
          "output_type": "stream",
          "name": "stdout",
          "text": [
            "train\n",
            "img:  987\n",
            "lab:  987\n",
            "match:  987\n",
            "valid\n",
            "img:  253\n",
            "lab:  253\n",
            "match:  253\n",
            "test\n",
            "img:  170\n",
            "lab:  170\n",
            "match:  170\n"
          ]
        }
      ]
    },
    {
      "cell_type": "code",
      "source": [
        "!python train.py --img 640 --batch 16 --epochs 100 --data ./data/custom.yaml --cfg ./models/yolov5s.yaml --weights yolov5s.pt"
      ],
      "metadata": {
        "id": "ofPeKag9w0h4"
      },
      "execution_count": null,
      "outputs": []
    },
    {
      "cell_type": "code",
      "source": [
        "!python detect.py --weights ./runs/train/exp5/weights/best.pt --img 640 --conf 0.5 --source /content/drive/Shareddrives/KST_Project/split_image/test/images"
      ],
      "metadata": {
        "id": "XuRoQl68L6fp"
      },
      "execution_count": null,
      "outputs": []
    }
  ]
}